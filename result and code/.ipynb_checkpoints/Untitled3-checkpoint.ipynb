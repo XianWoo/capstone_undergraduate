{
 "cells": [
  {
   "cell_type": "code",
   "execution_count": 1,
   "id": "e1d319ae",
   "metadata": {},
   "outputs": [],
   "source": [
    "import torch     \n",
    "import torch.nn as nn    \n",
    "import torchvision    \n",
    "from torch.utils.data import Dataset, DataLoader        \n",
    "from torchvision import transforms, utils     \n",
    "from PIL import Image  "
   ]
  },
  {
   "cell_type": "code",
   "execution_count": 2,
   "id": "d7dc2a0a",
   "metadata": {},
   "outputs": [],
   "source": [
    "device = torch.device('cuda' if torch.cuda.is_available() else 'cpu')"
   ]
  },
  {
   "cell_type": "code",
   "execution_count": 3,
   "id": "1239ce64-3b30-498a-b73c-898a982299bc",
   "metadata": {},
   "outputs": [],
   "source": [
    "# 定义超参数\n",
    "# RNN的输入是一个序列，sequence_length为序列长度，input_size为序列每个长度。\n",
    "sequence_length = 28*3\n",
    "input_size = 28\n",
    "# 定义RNN隐含单元的大小。\n",
    "hidden_size = 128\n",
    "# 定义rnn的层数\n",
    "num_layers = 2\n",
    "# 识别的类别数量\n",
    "num_classes = 7\n",
    "# 批的大小\n",
    "batch_size = 32\n",
    "# 定义迭代次数\n",
    "num_epochs = 50\n",
    "# 定义学习率\n",
    "learning_rate = 0.001"
   ]
  },
  {
   "cell_type": "code",
   "execution_count": 4,
   "id": "2340fcc1-7de4-468e-8bd7-756d35c86cd5",
   "metadata": {},
   "outputs": [],
   "source": [
    "def default_loader(path):        \n",
    "    # 注意要保证每个batch的tensor大小时候一样的。        \n",
    "    return Image.open(path).convert('RGB')   "
   ]
  },
  {
   "cell_type": "code",
   "execution_count": 5,
   "id": "f2f12274-b9c1-4bd1-975f-34a5be03de2b",
   "metadata": {},
   "outputs": [],
   "source": [
    "class MyDataset(Dataset):        \n",
    "    def __init__(self, txt, transform=None, target_transform=None, loader=default_loader):        \n",
    "        fh = open(txt, 'r')        \n",
    "        imgs = []        \n",
    "        for line in fh:        \n",
    "            line = line.strip('\\n')        \n",
    "            # line = line.rstrip()        \n",
    "            words = line.split(' ')        \n",
    "            imgs.append((words[0],int(words[1])))        \n",
    "        self.imgs = imgs        \n",
    "        self.transform = transform        \n",
    "        self.target_transform = target_transform        \n",
    "        self.loader = loader        \n",
    "            \n",
    "    def __getitem__(self, index):        \n",
    "        fn, label = self.imgs[index]        \n",
    "        img = self.loader(fn)        \n",
    "        if self.transform is not None:        \n",
    "            img = self.transform(img)        \n",
    "        return img,label        \n",
    "            \n",
    "    def __len__(self):        \n",
    "        return len(self.imgs)   "
   ]
  },
  {
   "cell_type": "code",
   "execution_count": 6,
   "id": "a5653793-025a-4e7c-964b-36e7313090b8",
   "metadata": {},
   "outputs": [],
   "source": [
    "def get_loader(dataset='/mnt/emotion_recognition/dataset/basic/Image/rnntrain_label.txt', crop_size=128, image_size=28, batch_size=2, mode='train', num_workers=1):        \n",
    "    \"\"\"Build and return a data loader.\"\"\"        \n",
    "    transform = []        \n",
    "    if mode == 'train':        \n",
    "        transform.append(transforms.RandomHorizontalFlip())        \n",
    "    transform.append(transforms.CenterCrop(crop_size))        \n",
    "    transform.append(transforms.Resize(image_size))        \n",
    "    transform.append(transforms.ToTensor())        \n",
    "    transform.append(transforms.Normalize(mean=(0.5, 0.5, 0.5), std=(0.5, 0.5, 0.5)))        \n",
    "    transform = transforms.Compose(transform)        \n",
    "    train_data=MyDataset(txt=dataset, transform=transform)        \n",
    "    data_loader = DataLoader(dataset=train_data,        \n",
    "                                  batch_size=batch_size,        \n",
    "                                  shuffle=(mode=='train'),        \n",
    "                                  num_workers=num_workers)        \n",
    "    return data_loader   "
   ]
  },
  {
   "cell_type": "code",
   "execution_count": 7,
   "id": "c6c80668-d564-4c7b-b89d-27ed73bfbb1f",
   "metadata": {},
   "outputs": [
    {
     "name": "stdout",
     "output_type": "stream",
     "text": [
      "384\n",
      "96\n",
      "<torch.utils.data.dataloader.DataLoader object at 0x7f629ed96790>\n"
     ]
    }
   ],
   "source": [
    "# 注意要保证每个batch的tensor大小时候一样的。        \n",
    "# data_loader = DataLoader(train_data, batch_size=2,shuffle=True)        \n",
    "train_loader = get_loader('/mnt/emotion_recognition/dataset/basic/Image/rnntrain_label.txt', batch_size=batch_size)        \n",
    "print(len(train_loader))        \n",
    "test_loader = get_loader('/mnt/emotion_recognition/dataset/basic/Image/rnntest_label.txt', batch_size=batch_size)        \n",
    "print(len(test_loader))  \n",
    "print(train_loader)"
   ]
  },
  {
   "cell_type": "code",
   "execution_count": 8,
   "id": "10af530f-d27d-44cc-8d57-d09c272dc9c0",
   "metadata": {},
   "outputs": [],
   "source": [
    "# 定义RNN（LSTM）\n",
    "class RNN(nn.Module):\n",
    "    def __init__(self, input_size, hidden_size, num_layers, num_classes):\n",
    "        super(RNN, self).__init__()\n",
    "        self.hidden_size = hidden_size\n",
    "        self.num_layers = num_layers\n",
    "        self.lstm = nn.LSTM(input_size, hidden_size, num_layers, batch_first=True)\n",
    "        self.fc = nn.Linear(hidden_size, num_classes)\n",
    "    \n",
    "    def forward(self, x):\n",
    "        # Set initial hidden and cell states \n",
    "        h0 = torch.zeros(self.num_layers, x.size(0), self.hidden_size).to(device) \n",
    "        c0 = torch.zeros(self.num_layers, x.size(0), self.hidden_size).to(device)\n",
    "        \n",
    "        # Forward propagate LSTM\n",
    "        out, _ = self.lstm(x, (h0, c0))  # out: tensor of shape (batch_size, seq_length, hidden_size)\n",
    "        \n",
    "        # Decode the hidden state of the last time step\n",
    "        out = self.fc(out[:, -1, :])\n",
    "        return out"
   ]
  },
  {
   "cell_type": "code",
   "execution_count": 9,
   "id": "4f181c89-e16b-4d19-86aa-edf9820979bd",
   "metadata": {},
   "outputs": [],
   "source": [
    "model = RNN(input_size, hidden_size, num_layers, num_classes).to(device)"
   ]
  },
  {
   "cell_type": "code",
   "execution_count": 10,
   "id": "5344074f-f178-4642-a281-7d2d1b09694a",
   "metadata": {},
   "outputs": [
    {
     "name": "stdout",
     "output_type": "stream",
     "text": [
      "RNN(\n",
      "  (lstm): LSTM(28, 128, num_layers=2, batch_first=True)\n",
      "  (fc): Linear(in_features=128, out_features=7, bias=True)\n",
      ")\n"
     ]
    }
   ],
   "source": [
    "print(model)"
   ]
  },
  {
   "cell_type": "code",
   "execution_count": 11,
   "id": "ce69e108-22c6-41b8-9e89-3b06a3336c04",
   "metadata": {},
   "outputs": [],
   "source": [
    "criterion = nn.CrossEntropyLoss()\n",
    "optimizer = torch.optim.Adam(model.parameters(), lr=learning_rate)"
   ]
  },
  {
   "cell_type": "code",
   "execution_count": 12,
   "id": "befdf205-739e-4b42-a901-6bff73b3a3fe",
   "metadata": {},
   "outputs": [
    {
     "name": "stdout",
     "output_type": "stream",
     "text": [
      "Epoch [1/50], Step [100/384], Loss: 1.5866,Accuracy:0.438\n",
      "Epoch [1/50], Step [200/384], Loss: 1.8873,Accuracy:0.375\n",
      "Epoch [1/50], Step [300/384], Loss: 1.4774,Accuracy:0.500\n",
      "Epoch [2/50], Step [100/384], Loss: 1.5993,Accuracy:0.344\n",
      "Epoch [2/50], Step [200/384], Loss: 1.5884,Accuracy:0.281\n",
      "Epoch [2/50], Step [300/384], Loss: 1.2569,Accuracy:0.562\n",
      "Epoch [3/50], Step [100/384], Loss: 1.8411,Accuracy:0.312\n",
      "Epoch [3/50], Step [200/384], Loss: 1.0931,Accuracy:0.656\n",
      "Epoch [3/50], Step [300/384], Loss: 1.2159,Accuracy:0.562\n",
      "Epoch [4/50], Step [100/384], Loss: 1.5120,Accuracy:0.438\n",
      "Epoch [4/50], Step [200/384], Loss: 1.3160,Accuracy:0.594\n",
      "Epoch [4/50], Step [300/384], Loss: 1.3287,Accuracy:0.531\n",
      "Epoch [5/50], Step [100/384], Loss: 1.0626,Accuracy:0.625\n",
      "Epoch [5/50], Step [200/384], Loss: 1.5457,Accuracy:0.531\n",
      "Epoch [5/50], Step [300/384], Loss: 1.3637,Accuracy:0.438\n",
      "Epoch [6/50], Step [100/384], Loss: 1.0370,Accuracy:0.625\n",
      "Epoch [6/50], Step [200/384], Loss: 1.0481,Accuracy:0.656\n",
      "Epoch [6/50], Step [300/384], Loss: 1.3056,Accuracy:0.469\n",
      "Epoch [7/50], Step [100/384], Loss: 1.1779,Accuracy:0.594\n",
      "Epoch [7/50], Step [200/384], Loss: 1.3158,Accuracy:0.594\n",
      "Epoch [7/50], Step [300/384], Loss: 1.1486,Accuracy:0.625\n",
      "Epoch [8/50], Step [100/384], Loss: 0.9961,Accuracy:0.625\n",
      "Epoch [8/50], Step [200/384], Loss: 1.1763,Accuracy:0.562\n",
      "Epoch [8/50], Step [300/384], Loss: 1.2131,Accuracy:0.500\n",
      "Epoch [9/50], Step [100/384], Loss: 1.1522,Accuracy:0.656\n",
      "Epoch [9/50], Step [200/384], Loss: 1.2426,Accuracy:0.594\n",
      "Epoch [9/50], Step [300/384], Loss: 1.1103,Accuracy:0.500\n",
      "Epoch [10/50], Step [100/384], Loss: 1.1545,Accuracy:0.531\n",
      "Epoch [10/50], Step [200/384], Loss: 0.9826,Accuracy:0.688\n",
      "Epoch [10/50], Step [300/384], Loss: 1.1472,Accuracy:0.594\n",
      "Epoch [11/50], Step [100/384], Loss: 1.0473,Accuracy:0.688\n",
      "Epoch [11/50], Step [200/384], Loss: 1.4087,Accuracy:0.531\n",
      "Epoch [11/50], Step [300/384], Loss: 1.2136,Accuracy:0.531\n",
      "Epoch [12/50], Step [100/384], Loss: 1.0189,Accuracy:0.656\n",
      "Epoch [12/50], Step [200/384], Loss: 1.2215,Accuracy:0.625\n",
      "Epoch [12/50], Step [300/384], Loss: 0.9990,Accuracy:0.688\n",
      "Epoch [13/50], Step [100/384], Loss: 1.0367,Accuracy:0.656\n",
      "Epoch [13/50], Step [200/384], Loss: 1.0151,Accuracy:0.625\n",
      "Epoch [13/50], Step [300/384], Loss: 0.7312,Accuracy:0.750\n",
      "Epoch [14/50], Step [100/384], Loss: 1.4122,Accuracy:0.438\n",
      "Epoch [14/50], Step [200/384], Loss: 0.9226,Accuracy:0.719\n",
      "Epoch [14/50], Step [300/384], Loss: 1.2768,Accuracy:0.594\n",
      "Epoch [15/50], Step [100/384], Loss: 1.0156,Accuracy:0.781\n",
      "Epoch [15/50], Step [200/384], Loss: 1.2025,Accuracy:0.562\n",
      "Epoch [15/50], Step [300/384], Loss: 0.8967,Accuracy:0.656\n",
      "Epoch [16/50], Step [100/384], Loss: 1.1715,Accuracy:0.625\n",
      "Epoch [16/50], Step [200/384], Loss: 0.8923,Accuracy:0.656\n",
      "Epoch [16/50], Step [300/384], Loss: 1.1211,Accuracy:0.562\n",
      "Epoch [17/50], Step [100/384], Loss: 1.0477,Accuracy:0.688\n",
      "Epoch [17/50], Step [200/384], Loss: 0.8041,Accuracy:0.750\n",
      "Epoch [17/50], Step [300/384], Loss: 0.8950,Accuracy:0.656\n",
      "Epoch [18/50], Step [100/384], Loss: 0.6335,Accuracy:0.844\n",
      "Epoch [18/50], Step [200/384], Loss: 0.5421,Accuracy:0.781\n",
      "Epoch [18/50], Step [300/384], Loss: 0.6896,Accuracy:0.688\n",
      "Epoch [19/50], Step [100/384], Loss: 0.9168,Accuracy:0.625\n",
      "Epoch [19/50], Step [200/384], Loss: 0.8559,Accuracy:0.719\n",
      "Epoch [19/50], Step [300/384], Loss: 0.6645,Accuracy:0.719\n",
      "Epoch [20/50], Step [100/384], Loss: 0.6757,Accuracy:0.750\n",
      "Epoch [20/50], Step [200/384], Loss: 1.0214,Accuracy:0.562\n",
      "Epoch [20/50], Step [300/384], Loss: 0.9770,Accuracy:0.656\n",
      "Epoch [21/50], Step [100/384], Loss: 1.0564,Accuracy:0.656\n",
      "Epoch [21/50], Step [200/384], Loss: 0.4693,Accuracy:0.844\n",
      "Epoch [21/50], Step [300/384], Loss: 1.0054,Accuracy:0.594\n",
      "Epoch [22/50], Step [100/384], Loss: 0.9925,Accuracy:0.688\n",
      "Epoch [22/50], Step [200/384], Loss: 0.6749,Accuracy:0.656\n",
      "Epoch [22/50], Step [300/384], Loss: 0.7776,Accuracy:0.688\n",
      "Epoch [23/50], Step [100/384], Loss: 0.6740,Accuracy:0.812\n",
      "Epoch [23/50], Step [200/384], Loss: 0.7590,Accuracy:0.719\n",
      "Epoch [23/50], Step [300/384], Loss: 0.8295,Accuracy:0.750\n",
      "Epoch [24/50], Step [100/384], Loss: 0.6776,Accuracy:0.750\n",
      "Epoch [24/50], Step [200/384], Loss: 0.7565,Accuracy:0.812\n",
      "Epoch [24/50], Step [300/384], Loss: 0.5982,Accuracy:0.844\n",
      "Epoch [25/50], Step [100/384], Loss: 0.8315,Accuracy:0.688\n",
      "Epoch [25/50], Step [200/384], Loss: 0.7256,Accuracy:0.688\n",
      "Epoch [25/50], Step [300/384], Loss: 0.6599,Accuracy:0.781\n",
      "Epoch [26/50], Step [100/384], Loss: 0.5290,Accuracy:0.812\n",
      "Epoch [26/50], Step [200/384], Loss: 0.5585,Accuracy:0.750\n",
      "Epoch [26/50], Step [300/384], Loss: 0.6942,Accuracy:0.781\n",
      "Epoch [27/50], Step [100/384], Loss: 0.5144,Accuracy:0.875\n",
      "Epoch [27/50], Step [200/384], Loss: 0.5618,Accuracy:0.781\n",
      "Epoch [27/50], Step [300/384], Loss: 0.4641,Accuracy:0.750\n",
      "Epoch [28/50], Step [100/384], Loss: 0.4782,Accuracy:0.781\n",
      "Epoch [28/50], Step [200/384], Loss: 0.4186,Accuracy:0.875\n",
      "Epoch [28/50], Step [300/384], Loss: 0.6650,Accuracy:0.812\n",
      "Epoch [29/50], Step [100/384], Loss: 0.4788,Accuracy:0.844\n",
      "Epoch [29/50], Step [200/384], Loss: 0.4814,Accuracy:0.781\n",
      "Epoch [29/50], Step [300/384], Loss: 0.2847,Accuracy:0.906\n",
      "Epoch [30/50], Step [100/384], Loss: 0.1968,Accuracy:0.938\n",
      "Epoch [30/50], Step [200/384], Loss: 0.4275,Accuracy:0.844\n",
      "Epoch [30/50], Step [300/384], Loss: 0.2408,Accuracy:0.969\n",
      "Epoch [31/50], Step [100/384], Loss: 0.3581,Accuracy:0.844\n",
      "Epoch [31/50], Step [200/384], Loss: 0.3914,Accuracy:0.812\n",
      "Epoch [31/50], Step [300/384], Loss: 0.4960,Accuracy:0.812\n",
      "Epoch [32/50], Step [100/384], Loss: 0.2088,Accuracy:0.906\n",
      "Epoch [32/50], Step [200/384], Loss: 0.5443,Accuracy:0.875\n",
      "Epoch [32/50], Step [300/384], Loss: 0.3626,Accuracy:0.875\n",
      "Epoch [33/50], Step [100/384], Loss: 0.7056,Accuracy:0.844\n",
      "Epoch [33/50], Step [200/384], Loss: 0.1950,Accuracy:0.938\n",
      "Epoch [33/50], Step [300/384], Loss: 0.3684,Accuracy:0.906\n",
      "Epoch [34/50], Step [100/384], Loss: 0.1500,Accuracy:0.969\n",
      "Epoch [34/50], Step [200/384], Loss: 0.1569,Accuracy:0.969\n",
      "Epoch [34/50], Step [300/384], Loss: 0.4513,Accuracy:0.844\n",
      "Epoch [35/50], Step [100/384], Loss: 0.6279,Accuracy:0.781\n",
      "Epoch [35/50], Step [200/384], Loss: 0.2929,Accuracy:0.875\n",
      "Epoch [35/50], Step [300/384], Loss: 0.3674,Accuracy:0.906\n",
      "Epoch [36/50], Step [100/384], Loss: 0.3046,Accuracy:0.875\n",
      "Epoch [36/50], Step [200/384], Loss: 0.2226,Accuracy:0.938\n",
      "Epoch [36/50], Step [300/384], Loss: 0.2295,Accuracy:0.938\n",
      "Epoch [37/50], Step [100/384], Loss: 0.1181,Accuracy:1.000\n",
      "Epoch [37/50], Step [200/384], Loss: 0.2428,Accuracy:0.875\n",
      "Epoch [37/50], Step [300/384], Loss: 0.1587,Accuracy:0.938\n",
      "Epoch [38/50], Step [100/384], Loss: 0.2286,Accuracy:0.906\n",
      "Epoch [38/50], Step [200/384], Loss: 0.1926,Accuracy:0.938\n",
      "Epoch [38/50], Step [300/384], Loss: 0.4907,Accuracy:0.875\n",
      "Epoch [39/50], Step [100/384], Loss: 0.3824,Accuracy:0.875\n",
      "Epoch [39/50], Step [200/384], Loss: 0.1818,Accuracy:0.938\n",
      "Epoch [39/50], Step [300/384], Loss: 0.1913,Accuracy:0.969\n",
      "Epoch [40/50], Step [100/384], Loss: 0.1139,Accuracy:0.969\n",
      "Epoch [40/50], Step [200/384], Loss: 0.2191,Accuracy:0.938\n",
      "Epoch [40/50], Step [300/384], Loss: 0.2360,Accuracy:0.906\n",
      "Epoch [41/50], Step [100/384], Loss: 0.0955,Accuracy:1.000\n",
      "Epoch [41/50], Step [200/384], Loss: 0.2870,Accuracy:0.906\n",
      "Epoch [41/50], Step [300/384], Loss: 0.5382,Accuracy:0.812\n",
      "Epoch [42/50], Step [100/384], Loss: 0.4253,Accuracy:0.844\n",
      "Epoch [42/50], Step [200/384], Loss: 0.0741,Accuracy:0.969\n",
      "Epoch [42/50], Step [300/384], Loss: 0.3327,Accuracy:0.875\n",
      "Epoch [43/50], Step [100/384], Loss: 0.0763,Accuracy:0.969\n",
      "Epoch [43/50], Step [200/384], Loss: 0.1768,Accuracy:0.938\n",
      "Epoch [43/50], Step [300/384], Loss: 0.1824,Accuracy:0.938\n",
      "Epoch [44/50], Step [100/384], Loss: 0.0881,Accuracy:0.969\n",
      "Epoch [44/50], Step [200/384], Loss: 0.0977,Accuracy:0.969\n",
      "Epoch [44/50], Step [300/384], Loss: 0.3804,Accuracy:0.844\n",
      "Epoch [45/50], Step [100/384], Loss: 0.3626,Accuracy:0.875\n",
      "Epoch [45/50], Step [200/384], Loss: 0.1254,Accuracy:0.938\n",
      "Epoch [45/50], Step [300/384], Loss: 0.3063,Accuracy:0.938\n",
      "Epoch [46/50], Step [100/384], Loss: 0.0644,Accuracy:1.000\n",
      "Epoch [46/50], Step [200/384], Loss: 0.0823,Accuracy:0.969\n",
      "Epoch [46/50], Step [300/384], Loss: 0.1124,Accuracy:0.969\n",
      "Epoch [47/50], Step [100/384], Loss: 0.1014,Accuracy:0.969\n",
      "Epoch [47/50], Step [200/384], Loss: 0.1388,Accuracy:0.969\n",
      "Epoch [47/50], Step [300/384], Loss: 0.1770,Accuracy:0.938\n",
      "Epoch [48/50], Step [100/384], Loss: 0.1674,Accuracy:0.938\n",
      "Epoch [48/50], Step [200/384], Loss: 0.0524,Accuracy:1.000\n",
      "Epoch [48/50], Step [300/384], Loss: 0.0251,Accuracy:1.000\n",
      "Epoch [49/50], Step [100/384], Loss: 0.1026,Accuracy:0.938\n",
      "Epoch [49/50], Step [200/384], Loss: 0.0891,Accuracy:0.969\n",
      "Epoch [49/50], Step [300/384], Loss: 0.0266,Accuracy:1.000\n",
      "Epoch [50/50], Step [100/384], Loss: 0.0684,Accuracy:1.000\n",
      "Epoch [50/50], Step [200/384], Loss: 0.0230,Accuracy:1.000\n",
      "Epoch [50/50], Step [300/384], Loss: 0.0732,Accuracy:0.938\n"
     ]
    }
   ],
   "source": [
    "# 训练模型 \n",
    "train_acc=[]\n",
    "total_step = len(train_loader)\n",
    "for epoch in range(num_epochs):\n",
    "    for i, (images, labels) in enumerate(train_loader):\n",
    "        images = images.reshape(-1, sequence_length, input_size).to(device)\n",
    "#         images = images.to(device)\n",
    "#         CUDA_LAUNCH_BLOCKING=1\n",
    "        labels = labels.to(device)\n",
    "        \n",
    "        # 前向传播+计算loss  \n",
    "        with torch.cuda.amp.autocast():\n",
    "            outputs=model(images)\n",
    "            loss=criterion(outputs,labels)\n",
    "#         outputs = model(images)\n",
    "#         loss = criterion(outputs, labels)\n",
    "        \n",
    "        # 后向传播+调整参数 \n",
    "        optimizer.zero_grad()\n",
    "        loss.backward()\n",
    "        optimizer.step()\n",
    "        _,argmax=torch.max(outputs,1)\n",
    "        acc=(labels==argmax.squeeze()).float().mean()\n",
    "        train_acc.append(acc.item())\n",
    "        # 每100个batch打印一次数据    \n",
    "        if (i+1) % 100 == 0:\n",
    "            print ('Epoch [{}/{}], Step [{}/{}], Loss: {:.4f},Accuracy:{:.3f}' \n",
    "                   .format(epoch+1, num_epochs, i+1, total_step, loss.item(),acc.item()))\n"
   ]
  },
  {
   "cell_type": "code",
   "execution_count": 13,
   "id": "a237892c-49f1-44fe-a129-a137a4e39b3e",
   "metadata": {},
   "outputs": [
    {
     "name": "stdout",
     "output_type": "stream",
     "text": [
      "Test Accuracy of the model on the 10000 test images: 60.22171503097489 %\n"
     ]
    }
   ],
   "source": [
    "with torch.no_grad():\n",
    "    correct = 0\n",
    "    total = 0\n",
    "    for images, labels in test_loader:\n",
    "        images = images.reshape(-1, sequence_length, input_size).to(device)\n",
    "        labels = labels.to(device)\n",
    "        outputs = model(images)\n",
    "        _, predicted = torch.max(outputs.data, 1)\n",
    "        total += labels.size(0)\n",
    "        correct += (predicted == labels).sum().item()\n",
    "\n",
    "    print('Test Accuracy of the model on the 10000 test images: {} %'.format(100 * correct / total)) "
   ]
  },
  {
   "cell_type": "code",
   "execution_count": 14,
   "id": "fd053d1f-8db3-4ebe-89c9-25136295faf1",
   "metadata": {},
   "outputs": [
    {
     "data": {
      "image/png": "[encoded data removed]",
      "text/plain": [
       "<Figure size 432x288 with 1 Axes>"
      ]
     },
     "metadata": {
      "needs_background": "light"
     },
     "output_type": "display_data"
    }
   ],
   "source": [
    "import matplotlib.pyplot as plt\n",
    "plt.plot(train_acc)\n",
    "plt.title(\"Training Curve (rnn,batch_size=32,lr= 1e-3\")\n",
    "plt.xlabel(\"Steps\")\n",
    "plt.ylabel(\"Training Accuracy\")\n",
    "plt.show()"
   ]
  },
  {
   "cell_type": "code",
   "execution_count": 17,
   "id": "6118ac45-e7ec-468f-9df5-bde35071d46b",
   "metadata": {},
   "outputs": [
    {
     "name": "stdout",
     "output_type": "stream",
     "text": [
      "tensor([[ 148.,   10.,    9.,   47.,   44.,   10.,   61.],\n",
      "        [   3.,   25.,    4.,   21.,   12.,    5.,    4.],\n",
      "        [  10.,    6.,   32.,   27.,   24.,   13.,   48.],\n",
      "        [  16.,    4.,   21., 1002.,   51.,   12.,   79.],\n",
      "        [  19.,    5.,   26.,  115.,  202.,    8.,  102.],\n",
      "        [  14.,   10.,    8.,   32.,   24.,   59.,   15.],\n",
      "        [  29.,    2.,   44.,   73.,  152.,    6.,  374.]])\n",
      "tensor([0.4498, 0.3378, 0.2000, 0.8456, 0.4235, 0.3642, 0.5500])\n"
     ]
    }
   ],
   "source": [
    "nb_classes = 7\n",
    "\n",
    "confusion_matrix = torch.zeros(nb_classes, nb_classes)\n",
    "with torch.no_grad():\n",
    "    for i, (images, labels) in enumerate(test_loader):\n",
    "        images = images.reshape(-1, sequence_length, input_size).to(device)\n",
    "        labels = labels.to(device)\n",
    "        outputs = model(images)\n",
    "        _, preds = torch.max(outputs, 1)\n",
    "        for t, p in zip(labels.view(-1), preds.view(-1)):\n",
    "                confusion_matrix[t.long(), p.long()] += 1\n",
    "\n",
    "print(confusion_matrix)\n",
    "print(confusion_matrix.diag()/confusion_matrix.sum(1))"
   ]
  },
  {
   "cell_type": "code",
   "execution_count": 20,
   "id": "a4368544-eefc-4142-b2fc-70737a0ef8a6",
   "metadata": {},
   "outputs": [
    {
     "data": {
      "text/plain": [
       "Text(0.5, 69.0, 'Predicted label')"
      ]
     },
     "execution_count": 20,
     "metadata": {},
     "output_type": "execute_result"
    },
    {
     "data": {
      "image/png": "[encoded data removed]",
      "text/plain": [
       "<Figure size 1080x720 with 2 Axes>"
      ]
     },
     "metadata": {
      "needs_background": "light"
     },
     "output_type": "display_data"
    }
   ],
   "source": [
    "import pandas as pd\n",
    "import seaborn as sns\n",
    "plt.figure(figsize=(15,10))\n",
    "\n",
    "\n",
    "class_names = ['Surprise' , 'Fear' , 'Disgust' , 'Happiness' , 'Sadness' ,'Anger' ,'Neutral']\n",
    "df_cm = pd.DataFrame(confusion_matrix, index=class_names, columns=class_names).astype(int)\n",
    "heatmap = sns.heatmap(df_cm, annot=True, fmt=\"d\")\n",
    "\n",
    "heatmap.yaxis.set_ticklabels(heatmap.yaxis.get_ticklabels(), rotation=0, ha='right',fontsize=15)\n",
    "heatmap.xaxis.set_ticklabels(heatmap.xaxis.get_ticklabels(), rotation=45, ha='right',fontsize=15)\n",
    "plt.ylabel('True label')\n",
    "plt.xlabel('Predicted label')"
   ]
  },
  {
   "cell_type": "code",
   "execution_count": 21,
   "id": "5d623640-4b5f-4182-bcc8-e59c8bf166d0",
   "metadata": {},
   "outputs": [],
   "source": [
    "torch.save('model.state_dict' , 'rnn.pth')"
   ]
  },
  {
   "cell_type": "code",
   "execution_count": null,
   "id": "82ce5d98-3c7c-41df-a774-86c374f76a26",
   "metadata": {},
   "outputs": [],
   "source": []
  }
 ],
 "metadata": {
  "kernelspec": {
   "display_name": "Python 3 (ipykernel)",
   "language": "python",
   "name": "python3"
  },
  "language_info": {
   "codemirror_mode": {
    "name": "ipython",
    "version": 3
   },
   "file_extension": ".py",
   "mimetype": "text/x-python",
   "name": "python",
   "nbconvert_exporter": "python",
   "pygments_lexer": "ipython3",
   "version": "3.9.7"
  }
 },
 "nbformat": 4,
 "nbformat_minor": 5
}
